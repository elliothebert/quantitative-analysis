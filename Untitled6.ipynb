{
  "nbformat": 4,
  "nbformat_minor": 0,
  "metadata": {
    "colab": {
      "provenance": [],
      "mount_file_id": "1Lgag09Kk5WDUL95o8RVf608nMU96-3AU",
      "authorship_tag": "ABX9TyOfNLZ723lxFW6yvaYJMmV7",
      "include_colab_link": true
    },
    "kernelspec": {
      "name": "python3",
      "display_name": "Python 3"
    },
    "language_info": {
      "name": "python"
    },
    "accelerator": "GPU"
  },
  "cells": [
    {
      "cell_type": "markdown",
      "metadata": {
        "id": "view-in-github",
        "colab_type": "text"
      },
      "source": [
        "<a href=\"https://colab.research.google.com/github/elliothebert/quantitative-analysis/blob/main/Untitled6.ipynb\" target=\"_parent\"><img src=\"https://colab.research.google.com/assets/colab-badge.svg\" alt=\"Open In Colab\"/></a>"
      ]
    },
    {
      "cell_type": "code",
      "execution_count": 3,
      "metadata": {
        "id": "us7LL6XIUofb"
      },
      "outputs": [],
      "source": [
        "import tensorflow as tf\n",
        "import os\n",
        "import zipfile\n",
        "import random\n",
        "import tensorflow as tf\n",
        "from tensorflow.keras.optimizers import RMSprop\n",
        "from tensorflow.keras.preprocessing.image import ImageDataGenerator\n",
        "from shutil import copyfile\n",
        "import splitfolders"
      ]
    },
    {
      "cell_type": "code",
      "source": [
        "input_folder = \"/content/drive/MyDrive/kagglecatsanddogs_5340/PetImages\"\n",
        "\n",
        "output_folder = '/content/drive/MyDrive/CatsDogs2'\n",
        "\n",
        "splitfolders.ratio(input_folder, output_folder, seed=42, ratio=(.7, .2, .1), group_prefix=None)"
      ],
      "metadata": {
        "colab": {
          "base_uri": "https://localhost:8080/"
        },
        "id": "30NEP0hG10W1",
        "outputId": "08d92595-466a-4a3c-fe92-cd876ebb833f"
      },
      "execution_count": 31,
      "outputs": [
        {
          "output_type": "stream",
          "name": "stderr",
          "text": [
            "\n",
            "Copying files: 0 files [00:00, ? files/s]\u001b[A\n",
            "Copying files: 3 files [00:00, 13.20 files/s]\u001b[A\n",
            "Copying files: 12 files [00:00, 41.73 files/s]\u001b[A\n",
            "Copying files: 18 files [00:00, 47.74 files/s]\u001b[A\n",
            "Copying files: 24 files [00:00, 49.76 files/s]\u001b[A\n",
            "Copying files: 30 files [00:00, 32.41 files/s]\u001b[A\n",
            "Copying files: 41 files [00:00, 48.81 files/s]\u001b[A\n",
            "Copying files: 55 files [00:01, 66.90 files/s]\u001b[A\n",
            "Copying files: 69 files [00:01, 83.67 files/s]\u001b[A\n",
            "Copying files: 80 files [00:01, 89.72 files/s]\u001b[A\n",
            "Copying files: 92 files [00:01, 96.25 files/s]\u001b[A\n",
            "Copying files: 103 files [00:01, 98.39 files/s]\u001b[A\n",
            "Copying files: 115 files [00:01, 100.72 files/s]\u001b[A\n",
            "Copying files: 129 files [00:01, 111.55 files/s]\u001b[A\n",
            "Copying files: 141 files [00:01, 109.60 files/s]\u001b[A\n",
            "Copying files: 153 files [00:01, 108.36 files/s]\u001b[A\n",
            "Copying files: 165 files [00:02, 109.54 files/s]\u001b[A\n",
            "Copying files: 177 files [00:02, 106.64 files/s]\u001b[A\n",
            "Copying files: 191 files [00:02, 110.95 files/s]\u001b[A\n",
            "Copying files: 205 files [00:02, 112.66 files/s]\u001b[A\n",
            "Copying files: 220 files [00:02, 120.12 files/s]\u001b[A\n",
            "Copying files: 233 files [00:02, 117.66 files/s]\u001b[A\n",
            "Copying files: 245 files [00:02, 114.95 files/s]\u001b[A\n",
            "Copying files: 257 files [00:02, 113.16 files/s]\u001b[A\n",
            "Copying files: 269 files [00:02, 112.21 files/s]\u001b[A\n",
            "Copying files: 282 files [00:03, 111.95 files/s]\u001b[A\n",
            "Copying files: 295 files [00:03, 116.10 files/s]\u001b[A\n",
            "Copying files: 307 files [00:03, 115.02 files/s]\u001b[A\n",
            "Copying files: 319 files [00:03, 112.73 files/s]\u001b[A\n",
            "Copying files: 331 files [00:03, 112.20 files/s]\u001b[A\n",
            "Copying files: 343 files [00:03, 108.88 files/s]\u001b[A\n",
            "Copying files: 356 files [00:03, 109.59 files/s]\u001b[A\n",
            "Copying files: 370 files [00:03, 116.68 files/s]\u001b[A\n",
            "Copying files: 382 files [00:03, 115.11 files/s]\u001b[A\n",
            "Copying files: 394 files [00:04, 112.58 files/s]\u001b[A\n",
            "Copying files: 406 files [00:04, 110.07 files/s]\u001b[A\n",
            "Copying files: 418 files [00:04, 109.81 files/s]\u001b[A\n",
            "Copying files: 430 files [00:04, 111.06 files/s]\u001b[A\n",
            "Copying files: 442 files [00:04, 112.51 files/s]\u001b[A\n",
            "Copying files: 454 files [00:04, 109.89 files/s]\u001b[A\n",
            "Copying files: 466 files [00:04, 109.47 files/s]\u001b[A\n",
            "Copying files: 477 files [00:04, 107.77 files/s]\u001b[A\n",
            "Copying files: 489 files [00:04, 109.30 files/s]\u001b[A\n",
            "Copying files: 503 files [00:05, 109.57 files/s]\u001b[A\n",
            "Copying files: 517 files [00:05, 113.00 files/s]\u001b[A\n",
            "Copying files: 531 files [00:05, 119.67 files/s]\u001b[A\n",
            "Copying files: 544 files [00:05, 119.49 files/s]\u001b[A\n",
            "Copying files: 556 files [00:05, 115.15 files/s]\u001b[A\n",
            "Copying files: 568 files [00:05, 114.23 files/s]\u001b[A\n",
            "Copying files: 580 files [00:05, 112.84 files/s]\u001b[A\n",
            "Copying files: 592 files [00:05, 110.05 files/s]\u001b[A\n",
            "Copying files: 606 files [00:05, 112.06 files/s]\u001b[A\n",
            "Copying files: 621 files [00:06, 113.71 files/s]\u001b[A\n",
            "Copying files: 636 files [00:06, 122.15 files/s]\u001b[A\n",
            "Copying files: 649 files [00:06, 119.86 files/s]\u001b[A\n",
            "Copying files: 662 files [00:06, 118.06 files/s]\u001b[A\n",
            "Copying files: 674 files [00:06, 115.46 files/s]\u001b[A\n",
            "Copying files: 686 files [00:06, 111.52 files/s]\u001b[A\n",
            "Copying files: 698 files [00:06, 113.05 files/s]\u001b[A\n",
            "Copying files: 710 files [00:06, 114.43 files/s]\u001b[A\n",
            "Copying files: 722 files [00:06, 113.19 files/s]\u001b[A\n",
            "Copying files: 734 files [00:07, 113.18 files/s]\u001b[A\n",
            "Copying files: 749 files [00:07, 116.38 files/s]\u001b[A\n",
            "Copying files: 763 files [00:07, 122.30 files/s]\u001b[A\n",
            "Copying files: 776 files [00:07, 119.45 files/s]\u001b[A\n",
            "Copying files: 788 files [00:07, 117.46 files/s]\u001b[A\n",
            "Copying files: 800 files [00:07, 112.11 files/s]\u001b[A\n",
            "Copying files: 814 files [00:07, 114.38 files/s]\u001b[A\n",
            "Copying files: 829 files [00:07, 122.60 files/s]\u001b[A\n",
            "Copying files: 842 files [00:07, 119.61 files/s]\u001b[A\n",
            "Copying files: 855 files [00:08, 118.60 files/s]\u001b[A\n",
            "Copying files: 872 files [00:08, 105.97 files/s]\n"
          ]
        }
      ]
    },
    {
      "cell_type": "code",
      "source": [
        "!pip install split-folders"
      ],
      "metadata": {
        "colab": {
          "base_uri": "https://localhost:8080/"
        },
        "id": "xKYL0UI010cP",
        "outputId": "039905a1-11bd-48ec-887a-3ae3574d8a12"
      },
      "execution_count": 2,
      "outputs": [
        {
          "output_type": "stream",
          "name": "stdout",
          "text": [
            "Looking in indexes: https://pypi.org/simple, https://us-python.pkg.dev/colab-wheels/public/simple/\n",
            "Collecting split-folders\n",
            "  Downloading split_folders-0.5.1-py3-none-any.whl (8.4 kB)\n",
            "Installing collected packages: split-folders\n",
            "Successfully installed split-folders-0.5.1\n"
          ]
        }
      ]
    },
    {
      "cell_type": "code",
      "source": [
        "print(len(os.listdir('/content/drive/MyDrive/CatsDogs2/train/Cat')))\n",
        "print(len(os.listdir('/content/drive/MyDrive/CatsDogs2/val/Cat')))\n",
        "print(len(os.listdir('/content/drive/MyDrive/CatsDogs2/test/Cat')))"
      ],
      "metadata": {
        "colab": {
          "base_uri": "https://localhost:8080/"
        },
        "id": "POMlYkyY10e-",
        "outputId": "23558e94-f4e8-4343-bf2f-99e4c2a00f71"
      },
      "execution_count": 40,
      "outputs": [
        {
          "output_type": "stream",
          "name": "stdout",
          "text": [
            "782\n",
            "261\n",
            "87\n"
          ]
        }
      ]
    },
    {
      "cell_type": "code",
      "source": [
        "model = tf.keras.models.Sequential([\n",
        "    tf.keras.layers.Conv2D(16, (3, 3), activation='relu', input_shape=(150, 150, 3)),\n",
        "    tf.keras.layers.MaxPooling2D(2, 2),\n",
        "    tf.keras.layers.Conv2D(32, (3, 3), activation='relu'),\n",
        "    tf.keras.layers.MaxPooling2D(2, 2),\n",
        "    tf.keras.layers.Conv2D(64, (3, 3), activation='relu'),\n",
        "    tf.keras.layers.MaxPooling2D(2, 2),\n",
        "    tf.keras.layers.Flatten(),\n",
        "    tf.keras.layers.Dense(512, activation='relu'),\n",
        "    tf.keras.layers.Dense(1, activation='sigmoid')\n",
        "])\n",
        "\n",
        "model.compile(optimizer=RMSprop(lr=0.001), loss='binary_crossentropy', metrics=['acc'])"
      ],
      "metadata": {
        "colab": {
          "base_uri": "https://localhost:8080/"
        },
        "id": "gcOS-XZH10hW",
        "outputId": "7b45fd03-22b7-4fc1-83a8-6f8ed1d47032"
      },
      "execution_count": 6,
      "outputs": [
        {
          "output_type": "stream",
          "name": "stderr",
          "text": [
            "/usr/local/lib/python3.7/dist-packages/keras/optimizer_v2/rmsprop.py:130: UserWarning: The `lr` argument is deprecated, use `learning_rate` instead.\n",
            "  super(RMSprop, self).__init__(name, **kwargs)\n"
          ]
        }
      ]
    },
    {
      "cell_type": "code",
      "source": [
        "TRAINING_DIR = \"/content/drive/MyDrive/CatsDogs2/train/\"\n",
        "train_datagen = ImageDataGenerator(rescale=1.0/255.)\n",
        "train_generator = train_datagen.flow_from_directory(TRAINING_DIR,\n",
        "                                                    batch_size=50,\n",
        "                                                    class_mode='binary',\n",
        "                                                    target_size=(150, 150))\n",
        "\n",
        "VALIDATION_DIR = \"/content/drive/MyDrive/CatsDogs2/val/\"\n",
        "validation_datagen = ImageDataGenerator(rescale=1.0/255.)\n",
        "validation_generator = validation_datagen.flow_from_directory(VALIDATION_DIR,\n",
        "                                                              batch_size=50,\n",
        "                                                              class_mode='binary',\n",
        "                                                              target_size=(150, 150))"
      ],
      "metadata": {
        "colab": {
          "base_uri": "https://localhost:8080/"
        },
        "id": "Rg2kRAF110js",
        "outputId": "8a7425bd-2ea9-4f82-f1f0-f36e762ff1e9"
      },
      "execution_count": 41,
      "outputs": [
        {
          "output_type": "stream",
          "name": "stdout",
          "text": [
            "Found 781 images belonging to 2 classes.\n",
            "Found 260 images belonging to 2 classes.\n"
          ]
        }
      ]
    },
    {
      "cell_type": "code",
      "source": [
        "import os\n",
        "import cv2\n",
        "bad_list=[]\n",
        "dir=r'/content/drive/MyDrive/CatsDogs2/val/'\n",
        "subdir_list=os.listdir(dir) # create a list of the sub directories in the directory ie train or test\n",
        "for d in subdir_list:  # iterate through the sub directories train and test\n",
        "    dpath=os.path.join (dir, d) # create path to sub directory\n",
        "    if d in ['test', 'train']:\n",
        "        class_list=os.listdir(dpath) # list of classes ie dog or cat\n",
        "       # print (class_list)\n",
        "        for klass in class_list: # iterate through the two classes\n",
        "            class_path=os.path.join(dpath, klass) # path to class directory\n",
        "            #print(class_path)\n",
        "            file_list=os.listdir(class_path) # create list of files in class directory\n",
        "            for f in file_list: # iterate through the files\n",
        "                fpath=os.path.join (class_path,f)\n",
        "                index=f.rfind('.') # find index of period infilename\n",
        "                ext=f[index+1:] # get the files extension\n",
        "                if ext  not in ['jpg', 'png', 'bmp', 'gif']:\n",
        "                    print(f'file {fpath}  has an invalid extension {ext}')\n",
        "                    bad_list.append(fpath)                    \n",
        "                else:\n",
        "                    try:\n",
        "                        img=cv2.imread(fpath)\n",
        "                        size=img.shape\n",
        "                    except:\n",
        "                        print(f'file {fpath} is not a valid image file ')\n",
        "                        bad_list.append(fpath)\n",
        "                       \n",
        "print (bad_list)"
      ],
      "metadata": {
        "colab": {
          "base_uri": "https://localhost:8080/"
        },
        "id": "Wdg085q5k1N9",
        "outputId": "de78f3e1-36a4-4874-aacc-fe47c9f36b6b"
      },
      "execution_count": 42,
      "outputs": [
        {
          "output_type": "stream",
          "name": "stdout",
          "text": [
            "[]\n"
          ]
        }
      ]
    },
    {
      "cell_type": "code",
      "source": [],
      "metadata": {
        "id": "pRU_7q4-n2Ya"
      },
      "execution_count": null,
      "outputs": []
    },
    {
      "cell_type": "code",
      "source": [
        "import os\n",
        "from PIL import Image\n",
        "\n",
        "from PIL import ImageFile\n",
        "ImageFile.LOAD_TRUNCATED_IMAGES = True\n",
        "folder_path = r\"/content/drive/MyDrive/CatsDogs2/train/\"\n",
        "extensions = []\n",
        "corupt_img_paths=[]\n",
        "for fldr in os.listdir(folder_path):\n",
        "    sub_folder_path = os.path.join(folder_path, fldr)\n",
        "    for filee in os.listdir(sub_folder_path):\n",
        "        file_path = os.path.join(sub_folder_path, filee)\n",
        "        print('** Path: {}  **'.format(file_path), end=\"\\r\", flush=True)\n",
        "        try:\n",
        "            im = Image.open(file_path)\n",
        "        except:\n",
        "            print(file_path)\n",
        "            corupt_img_paths.append(file_path)\n",
        "            continue\n",
        "        else:\n",
        "            rgb_im = im.convert('RGB')\n",
        "            if filee.split('.')[1] not in extensions:\n",
        "                extensions.append(filee.split('.')[1])"
      ],
      "metadata": {
        "colab": {
          "base_uri": "https://localhost:8080/"
        },
        "id": "ijIWF-xvlRqc",
        "outputId": "73b25a2f-7336-4a17-86a6-89a8c721fbdf"
      },
      "execution_count": 44,
      "outputs": [
        {
          "output_type": "stream",
          "name": "stdout",
          "text": [
            "/content/drive/MyDrive/CatsDogs2/train/Dog/.ipynb_checkpoints\n",
            "/content/drive/MyDrive/CatsDogs2/train/Cat/.ipynb_checkpoints\n"
          ]
        }
      ]
    },
    {
      "cell_type": "code",
      "source": [
        "history = model.fit_generator(train_generator, epochs=50, verbose=1, validation_data=validation_generator)"
      ],
      "metadata": {
        "colab": {
          "base_uri": "https://localhost:8080/"
        },
        "id": "cd494v9v10mc",
        "outputId": "5cbc6223-7f83-46ff-d550-19f9eabd526a"
      },
      "execution_count": 47,
      "outputs": [
        {
          "output_type": "stream",
          "name": "stderr",
          "text": [
            "/usr/local/lib/python3.7/dist-packages/ipykernel_launcher.py:1: UserWarning: `Model.fit_generator` is deprecated and will be removed in a future version. Please use `Model.fit`, which supports generators.\n",
            "  \"\"\"Entry point for launching an IPython kernel.\n"
          ]
        },
        {
          "output_type": "stream",
          "name": "stdout",
          "text": [
            "Epoch 1/50\n",
            "16/16 [==============================] - 4s 283ms/step - loss: 6.1038e-12 - acc: 1.0000 - val_loss: 1.0984e-14 - val_acc: 1.0000\n",
            "Epoch 2/50\n",
            "16/16 [==============================] - 4s 267ms/step - loss: 5.9868e-12 - acc: 1.0000 - val_loss: 1.0735e-14 - val_acc: 1.0000\n",
            "Epoch 3/50\n",
            "16/16 [==============================] - 4s 266ms/step - loss: 5.8740e-12 - acc: 1.0000 - val_loss: 1.0496e-14 - val_acc: 1.0000\n",
            "Epoch 4/50\n",
            "16/16 [==============================] - 4s 268ms/step - loss: 5.7655e-12 - acc: 1.0000 - val_loss: 1.0267e-14 - val_acc: 1.0000\n",
            "Epoch 5/50\n",
            "16/16 [==============================] - 4s 265ms/step - loss: 5.6608e-12 - acc: 1.0000 - val_loss: 1.0046e-14 - val_acc: 1.0000\n",
            "Epoch 6/50\n",
            "16/16 [==============================] - 4s 264ms/step - loss: 5.5597e-12 - acc: 1.0000 - val_loss: 9.8341e-15 - val_acc: 1.0000\n",
            "Epoch 7/50\n",
            "16/16 [==============================] - 4s 266ms/step - loss: 5.4620e-12 - acc: 1.0000 - val_loss: 9.5073e-15 - val_acc: 1.0000\n",
            "Epoch 8/50\n",
            "16/16 [==============================] - 4s 262ms/step - loss: 5.3112e-12 - acc: 1.0000 - val_loss: 9.3149e-15 - val_acc: 1.0000\n",
            "Epoch 9/50\n",
            "16/16 [==============================] - 4s 263ms/step - loss: 5.2218e-12 - acc: 1.0000 - val_loss: 9.1295e-15 - val_acc: 1.0000\n",
            "Epoch 10/50\n",
            "16/16 [==============================] - 4s 262ms/step - loss: 5.1354e-12 - acc: 1.0000 - val_loss: 8.9505e-15 - val_acc: 1.0000\n",
            "Epoch 11/50\n",
            "16/16 [==============================] - 4s 275ms/step - loss: 5.0518e-12 - acc: 1.0000 - val_loss: 8.7779e-15 - val_acc: 1.0000\n",
            "Epoch 12/50\n",
            "16/16 [==============================] - 4s 280ms/step - loss: 4.9708e-12 - acc: 1.0000 - val_loss: 8.6111e-15 - val_acc: 1.0000\n",
            "Epoch 13/50\n",
            "16/16 [==============================] - 5s 307ms/step - loss: 4.8923e-12 - acc: 1.0000 - val_loss: 8.4498e-15 - val_acc: 1.0000\n",
            "Epoch 14/50\n",
            "16/16 [==============================] - 5s 300ms/step - loss: 4.8161e-12 - acc: 1.0000 - val_loss: 8.2004e-15 - val_acc: 1.0000\n",
            "Epoch 15/50\n",
            "16/16 [==============================] - 4s 262ms/step - loss: 4.6979e-12 - acc: 1.0000 - val_loss: 8.0527e-15 - val_acc: 1.0000\n",
            "Epoch 16/50\n",
            "16/16 [==============================] - 4s 265ms/step - loss: 4.6275e-12 - acc: 1.0000 - val_loss: 7.9098e-15 - val_acc: 1.0000\n",
            "Epoch 17/50\n",
            "16/16 [==============================] - 4s 270ms/step - loss: 4.5593e-12 - acc: 1.0000 - val_loss: 7.7713e-15 - val_acc: 1.0000\n",
            "Epoch 18/50\n",
            "16/16 [==============================] - 4s 269ms/step - loss: 4.4929e-12 - acc: 1.0000 - val_loss: 7.6371e-15 - val_acc: 1.0000\n",
            "Epoch 19/50\n",
            "16/16 [==============================] - 4s 269ms/step - loss: 4.4284e-12 - acc: 1.0000 - val_loss: 7.5071e-15 - val_acc: 1.0000\n",
            "Epoch 20/50\n",
            "16/16 [==============================] - 4s 267ms/step - loss: 4.3658e-12 - acc: 1.0000 - val_loss: 7.3810e-15 - val_acc: 1.0000\n",
            "Epoch 21/50\n",
            "16/16 [==============================] - 4s 265ms/step - loss: 4.3048e-12 - acc: 1.0000 - val_loss: 7.2587e-15 - val_acc: 1.0000\n",
            "Epoch 22/50\n",
            "16/16 [==============================] - 4s 263ms/step - loss: 4.2455e-12 - acc: 1.0000 - val_loss: 7.1399e-15 - val_acc: 1.0000\n",
            "Epoch 23/50\n",
            "16/16 [==============================] - 4s 265ms/step - loss: 4.1877e-12 - acc: 1.0000 - val_loss: 7.0246e-15 - val_acc: 1.0000\n",
            "Epoch 24/50\n",
            "16/16 [==============================] - 4s 259ms/step - loss: 4.1315e-12 - acc: 1.0000 - val_loss: 6.9126e-15 - val_acc: 1.0000\n",
            "Epoch 25/50\n",
            "16/16 [==============================] - 4s 268ms/step - loss: 4.0768e-12 - acc: 1.0000 - val_loss: 6.8039e-15 - val_acc: 1.0000\n",
            "Epoch 26/50\n",
            "16/16 [==============================] - 4s 260ms/step - loss: 4.0234e-12 - acc: 1.0000 - val_loss: 6.6981e-15 - val_acc: 1.0000\n",
            "Epoch 27/50\n",
            "16/16 [==============================] - 4s 261ms/step - loss: 3.9714e-12 - acc: 1.0000 - val_loss: 6.5953e-15 - val_acc: 1.0000\n",
            "Epoch 28/50\n",
            "16/16 [==============================] - 4s 263ms/step - loss: 3.9208e-12 - acc: 1.0000 - val_loss: 6.4953e-15 - val_acc: 1.0000\n",
            "Epoch 29/50\n",
            "16/16 [==============================] - 4s 259ms/step - loss: 3.8713e-12 - acc: 1.0000 - val_loss: 6.3980e-15 - val_acc: 1.0000\n",
            "Epoch 30/50\n",
            "16/16 [==============================] - 4s 265ms/step - loss: 3.8232e-12 - acc: 1.0000 - val_loss: 6.3033e-15 - val_acc: 1.0000\n",
            "Epoch 31/50\n",
            "16/16 [==============================] - 4s 263ms/step - loss: 3.7761e-12 - acc: 1.0000 - val_loss: 6.2111e-15 - val_acc: 1.0000\n",
            "Epoch 32/50\n",
            "16/16 [==============================] - 4s 261ms/step - loss: 3.7302e-12 - acc: 1.0000 - val_loss: 6.1213e-15 - val_acc: 1.0000\n",
            "Epoch 33/50\n",
            "16/16 [==============================] - 4s 270ms/step - loss: 3.6853e-12 - acc: 1.0000 - val_loss: 6.0338e-15 - val_acc: 1.0000\n",
            "Epoch 34/50\n",
            "16/16 [==============================] - 4s 265ms/step - loss: 3.6415e-12 - acc: 1.0000 - val_loss: 5.9485e-15 - val_acc: 1.0000\n",
            "Epoch 35/50\n",
            "16/16 [==============================] - 4s 263ms/step - loss: 3.5988e-12 - acc: 1.0000 - val_loss: 5.8653e-15 - val_acc: 1.0000\n",
            "Epoch 36/50\n",
            "16/16 [==============================] - 4s 261ms/step - loss: 3.5570e-12 - acc: 1.0000 - val_loss: 5.7843e-15 - val_acc: 1.0000\n",
            "Epoch 37/50\n",
            "16/16 [==============================] - 4s 262ms/step - loss: 3.5162e-12 - acc: 1.0000 - val_loss: 5.7052e-15 - val_acc: 1.0000\n",
            "Epoch 38/50\n",
            "16/16 [==============================] - 4s 261ms/step - loss: 3.4762e-12 - acc: 1.0000 - val_loss: 5.6281e-15 - val_acc: 1.0000\n",
            "Epoch 39/50\n",
            "16/16 [==============================] - 4s 261ms/step - loss: 3.4371e-12 - acc: 1.0000 - val_loss: 5.5528e-15 - val_acc: 1.0000\n",
            "Epoch 40/50\n",
            "16/16 [==============================] - 4s 269ms/step - loss: 3.3989e-12 - acc: 1.0000 - val_loss: 5.4793e-15 - val_acc: 1.0000\n",
            "Epoch 41/50\n",
            "16/16 [==============================] - 4s 268ms/step - loss: 3.3616e-12 - acc: 1.0000 - val_loss: 5.4075e-15 - val_acc: 1.0000\n",
            "Epoch 42/50\n",
            "16/16 [==============================] - 4s 261ms/step - loss: 3.3250e-12 - acc: 1.0000 - val_loss: 5.3375e-15 - val_acc: 1.0000\n",
            "Epoch 43/50\n",
            "16/16 [==============================] - 4s 263ms/step - loss: 3.2892e-12 - acc: 1.0000 - val_loss: 5.2690e-15 - val_acc: 1.0000\n",
            "Epoch 44/50\n",
            "16/16 [==============================] - 4s 269ms/step - loss: 3.2542e-12 - acc: 1.0000 - val_loss: 5.2021e-15 - val_acc: 1.0000\n",
            "Epoch 45/50\n",
            "16/16 [==============================] - 4s 264ms/step - loss: 3.2198e-12 - acc: 1.0000 - val_loss: 5.1367e-15 - val_acc: 1.0000\n",
            "Epoch 46/50\n",
            "16/16 [==============================] - 4s 259ms/step - loss: 3.1862e-12 - acc: 1.0000 - val_loss: 5.0728e-15 - val_acc: 1.0000\n",
            "Epoch 47/50\n",
            "16/16 [==============================] - 5s 287ms/step - loss: 3.1533e-12 - acc: 1.0000 - val_loss: 5.0103e-15 - val_acc: 1.0000\n",
            "Epoch 48/50\n",
            "16/16 [==============================] - 4s 279ms/step - loss: 3.1210e-12 - acc: 1.0000 - val_loss: 4.9491e-15 - val_acc: 1.0000\n",
            "Epoch 49/50\n",
            "16/16 [==============================] - 4s 259ms/step - loss: 3.0894e-12 - acc: 1.0000 - val_loss: 4.8893e-15 - val_acc: 1.0000\n",
            "Epoch 50/50\n",
            "16/16 [==============================] - 4s 258ms/step - loss: 3.0584e-12 - acc: 1.0000 - val_loss: 4.8308e-15 - val_acc: 1.0000\n"
          ]
        }
      ]
    },
    {
      "cell_type": "code",
      "source": [
        "%matplotlib inline\n",
        "\n",
        "import matplotlib.image  as mpimg\n",
        "import matplotlib.pyplot as plt\n",
        "\n",
        "#-----------------------------------------------------------\n",
        "# Retrieve a list of list results on training and test data\n",
        "# sets for each training epoch\n",
        "#-----------------------------------------------------------\n",
        "acc=history.history['acc']\n",
        "val_acc=history.history['val_acc']\n",
        "loss=history.history['loss']\n",
        "val_loss=history.history['val_loss']\n",
        "\n",
        "epochs=range(len(acc)) # Get number of epochs\n",
        "\n",
        "#------------------------------------------------\n",
        "# Plot training and validation accuracy per epoch\n",
        "#------------------------------------------------\n",
        "plt.plot(epochs, acc, 'r', \"Training Accuracy\")\n",
        "plt.plot(epochs, val_acc, 'b', \"Validation Accuracy\")\n",
        "plt.title('Training and validation accuracy')\n",
        "plt.figure()\n",
        "\n",
        "#------------------------------------------------\n",
        "# Plot training and validation loss per epoch\n",
        "#------------------------------------------------\n",
        "plt.plot(epochs, loss, 'r', \"Training Loss\")\n",
        "plt.plot(epochs, val_loss, 'b', \"Validation Loss\")\n",
        "plt.figure()\n"
      ],
      "metadata": {
        "colab": {
          "base_uri": "https://localhost:8080/",
          "height": 581
        },
        "id": "y2Nfgfrc10ot",
        "outputId": "3cfebd25-5ab5-4d55-a352-390667384c47"
      },
      "execution_count": 48,
      "outputs": [
        {
          "output_type": "stream",
          "name": "stderr",
          "text": [
            "\rCopying files: 11 files [25:31, 139.21s/ files]\n"
          ]
        },
        {
          "output_type": "execute_result",
          "data": {
            "text/plain": [
              "<Figure size 432x288 with 0 Axes>"
            ]
          },
          "metadata": {},
          "execution_count": 48
        },
        {
          "output_type": "display_data",
          "data": {
            "text/plain": [
              "<Figure size 432x288 with 1 Axes>"
            ],
            "image/png": "[encoded data removed]"
          },
          "metadata": {
            "needs_background": "light"
          }
        },
        {
          "output_type": "display_data",
          "data": {
            "text/plain": [
              "<Figure size 432x288 with 1 Axes>"
            ],
            "image/png": "[encoded data removed]"
          },
          "metadata": {
            "needs_background": "light"
          }
        },
        {
          "output_type": "display_data",
          "data": {
            "text/plain": [
              "<Figure size 432x288 with 0 Axes>"
            ]
          },
          "metadata": {}
        }
      ]
    },
    {
      "cell_type": "code",
      "source": [],
      "metadata": {
        "id": "N9WT2x-210sD"
      },
      "execution_count": null,
      "outputs": []
    },
    {
      "cell_type": "code",
      "source": [],
      "metadata": {
        "id": "fQ0h229a10vG"
      },
      "execution_count": null,
      "outputs": []
    }
  ]
}